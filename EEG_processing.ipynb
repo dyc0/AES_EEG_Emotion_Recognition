{
 "cells": [
  {
   "cell_type": "markdown",
   "id": "dd4f77bd",
   "metadata": {},
   "source": [
    "IMPORTS AND CONSTANTS"
   ]
  },
  {
   "cell_type": "code",
   "execution_count": null,
   "id": "91f0e967",
   "metadata": {},
   "outputs": [],
   "source": [
    "from xml.dom.expatbuilder import parseFragmentString\n",
    "import pyxdf\n",
    "import pandas as pd\n",
    "from moviepy.editor import VideoFileClip\n",
    "import numpy as np\n",
    "from matplotlib import pyplot as plt\n",
    "import mne\n",
    "\n",
    "%matplotlib qt\n",
    "\n",
    "bands = {'delta': [0.5, 4], 'tehta': [4, 8], 'alpha': [8, 13], \\\n",
    "         'beta': [13, 30], 'gamma': [30, 50]}\n",
    "xdfFilePath = 'xdfs\\pesa.xdf'\n",
    "csvFilePath = 'csvs\\pesa.csv'\n",
    "\n",
    "plt.figure()\n",
    "plt.close()"
   ]
  },
  {
   "cell_type": "markdown",
   "id": "c81208fb-4631-4f16-81c8-05a03576af88",
   "metadata": {},
   "source": [
    "FETCHING VIDEO DURATIONS:"
   ]
  },
  {
   "cell_type": "code",
   "execution_count": null,
   "id": "d8ddf024",
   "metadata": {},
   "outputs": [],
   "source": [
    "videopath='C:\\\\Users\\\\Duca\\\\OneDrive - student.etf.bg.ac.rs\\\\ETF\\\\SESTI SEMESTAR\\\\AES\\\\PROJEKAT\\\\VIDEO\\\\VIDEOS\\\\'\n",
    "\n",
    "video_names = pd.read_csv(csvFilePath, usecols=['Stimulus'])\n",
    "vidind = [name[0:-4] for name in video_names['Stimulus']]\n",
    "viddur = {}\n",
    "for name in vidind:\n",
    "    viddur[name] = VideoFileClip(videopath + name + '.mp4').duration\n",
    "vidind"
   ]
  },
  {
   "cell_type": "markdown",
   "id": "c470ecd5-5e58-4d5a-b53b-c9237208e592",
   "metadata": {},
   "source": [
    "LOADING THE DATA:"
   ]
  },
  {
   "cell_type": "code",
   "execution_count": null,
   "id": "219f0b08",
   "metadata": {},
   "outputs": [],
   "source": [
    "data, header = pyxdf.load_xdf(xdfFilePath)\n",
    "signal = data[0]['time_series']\n",
    "timestamps = data[0]['time_stamps']\n",
    "ch_n = int(data[0]['info']['channel_count'][0])\n",
    "\n",
    "chnames = []\n",
    "for i in range(ch_n):\n",
    "    chnames.append(data[0]['info']['desc'][0]['channels'][0]['channel'][i]['label'][0])\n",
    "print(chnames)\n",
    "print(\"Data loaded.\")\n",
    "\n",
    "sfreq = int(float(data[0][\"info\"][\"nominal_srate\"][0]))\n",
    "info = mne.create_info(chnames, sfreq, \"eeg\")\n",
    "raw = mne.io.RawArray(signal.T*1e-3/50/2, info) # CHECK THIS SCALING!!!\n",
    "#raw.crop(0, raw.times[-1]-30.)\n",
    "raw.set_montage('standard_1020', match_alias=True)\n",
    "#* (1e-3 / 50 / 2)\n",
    "\n",
    "segments = []"
   ]
  },
  {
   "cell_type": "code",
   "execution_count": null,
   "id": "9b43bab0-c8ce-4687-90d1-1adbb8758771",
   "metadata": {},
   "outputs": [],
   "source": [
    "raw.plot(scalings=dict(eeg=1e-4), duration=1, start=14, block=True)"
   ]
  },
  {
   "cell_type": "code",
   "execution_count": null,
   "id": "fe7a512c-e419-4664-b6ca-ea8cb1f513a0",
   "metadata": {},
   "outputs": [],
   "source": [
    "raw.plot_psd(fmax=125, average=True)"
   ]
  },
  {
   "cell_type": "code",
   "execution_count": null,
   "id": "aaaa8793",
   "metadata": {},
   "outputs": [],
   "source": [
    "filtered_raw = raw.copy().filter(l_freq=1., h_freq=40.).notch_filter(freqs=[50])\n",
    "ica = mne.preprocessing.ICA(n_components=0.99, max_iter='auto', random_state=93)\n",
    "\n",
    "ica.fit(filtered_raw)"
   ]
  },
  {
   "cell_type": "code",
   "execution_count": null,
   "id": "d851fa04-4870-4803-8c04-c44d565ab035",
   "metadata": {},
   "outputs": [],
   "source": [
    "ica.plot_sources(raw, block=True, start=20., stop=40.)\n",
    "ica.plot_components()"
   ]
  },
  {
   "cell_type": "markdown",
   "id": "a0292e8e-2443-4b93-aff3-2d10c0e82bc7",
   "metadata": {},
   "source": [
    "Manually selecting potentially bad channels, as per above generated graphs:"
   ]
  },
  {
   "cell_type": "code",
   "execution_count": null,
   "id": "3286afc7-1d43-4ca9-b3e4-a618e15f3720",
   "metadata": {},
   "outputs": [],
   "source": [
    "bad_eog = [0, 3, 13]\n",
    "bad_emg = [7, 10, 12]\n",
    "bad_ecg = [4]\n",
    "bads = bad_eog + bad_emg + bad_ecg"
   ]
  },
  {
   "cell_type": "markdown",
   "id": "24b48843-68bb-4170-8481-90cbe9f0f9bf",
   "metadata": {},
   "source": [
    "We need to check the potentially bad channels manually:"
   ]
  },
  {
   "cell_type": "code",
   "execution_count": null,
   "id": "575088b1-707e-4ef8-9ba7-89260a4ced19",
   "metadata": {},
   "outputs": [],
   "source": [
    "ica.plot_properties(raw, picks=bads)"
   ]
  },
  {
   "cell_type": "markdown",
   "id": "605a720b-63e8-40e0-9298-2dab1f4cc856",
   "metadata": {},
   "source": [
    "(https://labeling.ucsd.edu/tutorial/labels)\n",
    "After checking, it seems that only some were indeed bad:"
   ]
  },
  {
   "cell_type": "code",
   "execution_count": null,
   "id": "b710b66d-e81f-4ad4-8630-1252910949af",
   "metadata": {},
   "outputs": [],
   "source": [
    "ica.exclude = [0, 3, 4]"
   ]
  },
  {
   "cell_type": "markdown",
   "id": "620607a9-84e8-43ce-9fb7-a1e8a0b19e4d",
   "metadata": {},
   "source": [
    "0 is vertical eye movement artifact, 3 is horizontal, and 4 is ECG artifact. We now apply ICA:"
   ]
  },
  {
   "cell_type": "code",
   "execution_count": null,
   "id": "b64b1a45-af51-40cf-9e4f-d7de454cfcb3",
   "metadata": {},
   "outputs": [],
   "source": [
    "raw_ica = filtered_raw.copy()\n",
    "ica.apply(raw_ica)"
   ]
  },
  {
   "cell_type": "markdown",
   "id": "90d958e0",
   "metadata": {},
   "source": [
    "SEGMENTING INTO SMALLER RAW FILES"
   ]
  },
  {
   "cell_type": "code",
   "execution_count": null,
   "id": "856c8e2a",
   "metadata": {},
   "outputs": [],
   "source": [
    "segments = []\n",
    "\n",
    "current_t = raw._last_time\n",
    "current_t-= 30\n",
    "vidind.reverse()\n",
    "for key in vidind:\n",
    "    currentDur = viddur[key]\n",
    "    current_t  -= currentDur\n",
    "    segments.append({'raw': raw_ica.copy().crop(current_t, current_t+currentDur), 'ID': key})\n",
    "    current_t -= 15\n",
    "segments"
   ]
  },
  {
   "cell_type": "markdown",
   "id": "e33e2ee1",
   "metadata": {},
   "source": [
    "CALCULATING THE FEATURES OF SIGNALS\n",
    "-------------------------------------------------------------------------------------------------------------------------------"
   ]
  },
  {
   "cell_type": "markdown",
   "id": "780c1d0b",
   "metadata": {},
   "source": [
    "CALCULATING FREQUENCY CHARACTERISTICS OF SIGNAL PER SEGMENT"
   ]
  },
  {
   "cell_type": "code",
   "execution_count": null,
   "id": "85641d03",
   "metadata": {},
   "outputs": [],
   "source": [
    "for segment in segments:\n",
    "    psds, freqs = mne.time_frequency.psd_welch(segment['raw'])\n",
    "    segment['psds'] = psds\n",
    "    segment['freqs'] = freqs\n",
    "    segment['psds_avg'] = np.average(segment['psds'], axis=0)"
   ]
  },
  {
   "cell_type": "code",
   "execution_count": null,
   "id": "1f573bcb",
   "metadata": {},
   "outputs": [],
   "source": [
    "for segment in segments:\n",
    "    avg_power = np.average(segment['psds_avg'])\n",
    "    print(avg_power)\n",
    "    segment['avg_pow']    = avg_power*1e11\n",
    "    segment['peak_mag']   = np.max(segment['psds_avg'])/avg_power\n",
    "    segment['bottom_mag'] = np.min(segment['psds_avg'])/avg_power\n",
    "    segment['peak_freq']  = segment['freqs'][np.argmax(segment['psds_avg'])]\n",
    "    segment['std']        = np.std(segment['psds_avg'])*1e11\n",
    "    for bandname in bands.keys():\n",
    "        segment[bandname] = {}\n",
    "        band_indices = [i for i in range(len(segment['freqs']))\n",
    "                            if segment['freqs'][i]>=bands[bandname][0] and segment['freqs'][i]<=bands[bandname][1]]\n",
    "        banded_signal = np.array(segment['psds_avg'])[band_indices]\n",
    "        segment[bandname]['average']    = np.average(banded_signal)/avg_power\n",
    "        segment[bandname]['peak_mag']   = np.max(banded_signal)/avg_power\n",
    "        segment[bandname]['bottom_mag'] = np.min(banded_signal)/avg_power\n",
    "        segment[bandname]['peak_freq']  = segment['freqs'][np.argmax(banded_signal)+band_indices[0]]\n",
    "        segment[bandname]['std']        = np.std(banded_signal/avg_power)"
   ]
  },
  {
   "cell_type": "markdown",
   "id": "c7056dde",
   "metadata": {},
   "source": [
    "DETERMINING VIDEO EMOTIONS\n",
    "------"
   ]
  },
  {
   "cell_type": "code",
   "execution_count": null,
   "id": "0226c325",
   "metadata": {},
   "outputs": [],
   "source": [
    "def determine_emotion(valence, arousal) -> str:\n",
    "    if valence<=5:\n",
    "        v = 1\n",
    "    else:\n",
    "        v = 0\n",
    "\n",
    "    if arousal > 5:\n",
    "        a = 0\n",
    "    else:\n",
    "        a = 1\n",
    "\n",
    "    return [v, a]"
   ]
  },
  {
   "cell_type": "code",
   "execution_count": null,
   "id": "403d68ca",
   "metadata": {},
   "outputs": [],
   "source": [
    "v_grades = pd.read_csv(csvFilePath)\n",
    "print(v_grades)\n",
    "\n",
    "for segment in segments:\n",
    "    id = str(segment['ID'])\n",
    "    vidname = id+'.mp4'\n",
    "    \n",
    "    valence = v_grades.loc[v_grades['Stimulus']==vidname]['Valence'].iloc[0]\n",
    "    arousal = v_grades.loc[v_grades['Stimulus']==vidname]['Arousal'].iloc[0]\n",
    "\n",
    "    emo = determine_emotion(valence, arousal)\n",
    "    segment['PLES'] = emo[0]\n",
    "    segment['AROS'] = emo[1]"
   ]
  },
  {
   "cell_type": "markdown",
   "id": "fd834abf",
   "metadata": {},
   "source": [
    "SAVING DATA\n",
    "----"
   ]
  },
  {
   "cell_type": "markdown",
   "id": "79545e52",
   "metadata": {},
   "source": [
    "First, we need column names:"
   ]
  },
  {
   "cell_type": "code",
   "execution_count": null,
   "id": "58917d35",
   "metadata": {},
   "outputs": [],
   "source": [
    "framecols = []\n",
    "framecols.append('ID')\n",
    "framecols.append('AVG')\n",
    "framecols.append('PEAK')\n",
    "framecols.append('BOTTOM')\n",
    "framecols.append('PEAKF')\n",
    "framecols.append('STD')\n",
    "for key in bands.keys():\n",
    "    framecols.append(key + '_AVG')\n",
    "    framecols.append(key + '_PEAK')\n",
    "    framecols.append(key + '_BOTTOM')\n",
    "    framecols.append(key + '_PEAKF')\n",
    "    framecols.append(key + '_STD')\n",
    "framecols.append('VALENCE')\n",
    "framecols.append('AROUSAL')\n",
    "\n",
    "print(framecols)\n"
   ]
  },
  {
   "cell_type": "code",
   "execution_count": null,
   "id": "b1be223b",
   "metadata": {},
   "outputs": [],
   "source": [
    "frame_to_save = pd.DataFrame()\n",
    "\n",
    "ind = 0\n",
    "for segment in segments:\n",
    "    featurelist = []\n",
    "    featurelist.append(segment['ID'])\n",
    "    featurelist.append(segment['avg_pow'])\n",
    "    featurelist.append(segment['peak_mag'])\n",
    "    featurelist.append(segment['bottom_mag'])\n",
    "    featurelist.append(segment['peak_freq'])\n",
    "    featurelist.append(segment['std'])\n",
    "    for bandname in bands:\n",
    "        featurelist.append(segment[bandname]['average'])\n",
    "        featurelist.append(segment[bandname]['peak_mag'])\n",
    "        featurelist.append(segment[bandname]['bottom_mag'])\n",
    "        featurelist.append(segment[bandname]['peak_freq'])\n",
    "        featurelist.append(segment[bandname]['std'])\n",
    "    featurelist.append(segment['PLES'])\n",
    "    featurelist.append(segment['AROS'])\n",
    "    frame_to_save[ind] = featurelist\n",
    "    ind += 1\n",
    "    \n",
    "frame_to_save.set_axis(framecols, axis='index', inplace=True)\n",
    "frame_to_save = frame_to_save.T\n",
    "frame_to_save.to_csv('Signal_features.csv')"
   ]
  }
 ],
 "metadata": {
  "kernelspec": {
   "display_name": "Python 3.9.5 ('CODE_OBRADA': venv)",
   "language": "python",
   "name": "python3"
  },
  "language_info": {
   "codemirror_mode": {
    "name": "ipython",
    "version": 3
   },
   "file_extension": ".py",
   "mimetype": "text/x-python",
   "name": "python",
   "nbconvert_exporter": "python",
   "pygments_lexer": "ipython3",
   "version": "3.9.5"
  },
  "vscode": {
   "interpreter": {
    "hash": "cc404bad36b79c79397fa664704dc89741f64f8860f7824e3417e7df5262bf88"
   }
  }
 },
 "nbformat": 4,
 "nbformat_minor": 5
}
