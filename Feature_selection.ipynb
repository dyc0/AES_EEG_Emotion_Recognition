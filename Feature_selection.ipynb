{
 "cells": [
  {
   "cell_type": "markdown",
   "metadata": {},
   "source": [
    "Imports and constants"
   ]
  },
  {
   "cell_type": "code",
   "execution_count": 94,
   "metadata": {},
   "outputs": [],
   "source": [
    "import pandas as pd\n",
    "import numpy as np\n",
    "from sklearn import feature_selection as fs\n",
    "import matplotlib.pyplot as plt\n",
    "\n",
    "csv_features_path = 'csvs/pesa_signal_features.csv'\n",
    "\n",
    "%matplotlib qt"
   ]
  },
  {
   "cell_type": "markdown",
   "metadata": {},
   "source": [
    "LOADING THE DATA"
   ]
  },
  {
   "cell_type": "code",
   "execution_count": 64,
   "metadata": {},
   "outputs": [],
   "source": [
    "feature_names = ['AVG', 'PEAK', 'BOTTOM', 'PEAKF', 'STD',\\\n",
    "            'delta_AVG', 'delta_PEAK', 'delta_BOTTOM', 'delta_PEAKF', 'delta_STD',\\\n",
    "            'tehta_AVG', 'tehta_PEAK', 'tehta_BOTTOM', 'tehta_PEAKF', 'tehta_STD',\\\n",
    "            'alpha_AVG', 'alpha_PEAK', 'alpha_BOTTOM', 'alpha_PEAKF', 'alpha_STD',\\\n",
    "            'beta_AVG', 'beta_PEAK', 'beta_BOTTOM', 'beta_PEAKF', 'beta_STD',\\\n",
    "            'gamma_AVG', 'gamma_PEAK', 'gamma_BOTTOM', 'gamma_PEAKF', 'gamma_STD',]\n",
    "id_columns = ['ID', 'VALENCE', 'AROUSAL']\n",
    "useful_columns = id_columns + feature_names\n",
    "\n",
    "\n",
    "\n",
    "data = pd.read_csv(csv_features_path, usecols=useful_columns)\n",
    "\n",
    "features = data.drop(['ID', 'VALENCE', 'AROUSAL'], axis=1)\n",
    "classes1 = data['VALENCE']\n",
    "classes2 = data['AROUSAL']\n",
    "\n",
    "features = features.to_numpy()"
   ]
  },
  {
   "cell_type": "markdown",
   "metadata": {},
   "source": [
    "SELECTING BEST FEATURES"
   ]
  },
  {
   "cell_type": "code",
   "execution_count": 62,
   "metadata": {},
   "outputs": [
    {
     "name": "stdout",
     "output_type": "stream",
     "text": [
      "['delta_PEAKF' 'tehta_PEAKF' 'alpha_PEAKF' 'beta_PEAKF' 'gamma_PEAKF']\n",
      "['PEAKF' 'delta_PEAKF' 'alpha_PEAKF' 'beta_PEAKF' 'gamma_PEAKF']\n"
     ]
    }
   ],
   "source": [
    "selector = fs.SelectKBest(score_func=fs.mutual_info_classif, k=5)\n",
    "selector.fit(features, classes1)\n",
    "selected_features_valence = selector.get_feature_names_out(feature_names)\n",
    "\n",
    "selector.fit(features, classes2)\n",
    "selected_features_arousal = selector.get_feature_names_out(feature_names)\n",
    "\n",
    "print(selected_features_valence)\n",
    "print(selected_features_arousal)"
   ]
  },
  {
   "cell_type": "markdown",
   "metadata": {},
   "source": [
    "EXAMINING BEST FEATURES\n",
    "----"
   ]
  },
  {
   "cell_type": "markdown",
   "metadata": {},
   "source": [
    "FEATURES FOR VALENCE DETECTION"
   ]
  },
  {
   "cell_type": "code",
   "execution_count": 90,
   "metadata": {},
   "outputs": [],
   "source": [
    "valence_data = id_columns + selected_features_valence.tolist()\n",
    "valence_f = data[valence_data]\n",
    "valence_f = valence_f.drop(['AROUSAL'], axis=1)\n",
    "positives = valence_f.loc[valence_f['VALENCE']==0]\n",
    "negatives = valence_f.loc[valence_f['VALENCE']==1]"
   ]
  },
  {
   "cell_type": "markdown",
   "metadata": {},
   "source": [
    "Plotting"
   ]
  },
  {
   "cell_type": "code",
   "execution_count": 106,
   "metadata": {},
   "outputs": [
    {
     "name": "stdout",
     "output_type": "stream",
     "text": [
      "[13.671875 13.671875 13.671875 13.671875 13.671875]\n"
     ]
    }
   ],
   "source": [
    "posdata = positives['beta_PEAKF'].to_numpy()\n",
    "negdata = negatives['beta_PEAKF'].to_numpy()\n",
    "for_plot = [negdata, posdata]\n",
    "\n",
    "print(negdata)\n",
    "plt.boxplot(negdata)\n",
    "plt.show()"
   ]
  }
 ],
 "metadata": {
  "kernelspec": {
   "display_name": "Python 3.9.5 ('CODE_OBRADA': venv)",
   "language": "python",
   "name": "python3"
  },
  "language_info": {
   "codemirror_mode": {
    "name": "ipython",
    "version": 3
   },
   "file_extension": ".py",
   "mimetype": "text/x-python",
   "name": "python",
   "nbconvert_exporter": "python",
   "pygments_lexer": "ipython3",
   "version": "3.9.5"
  },
  "orig_nbformat": 4,
  "vscode": {
   "interpreter": {
    "hash": "cc404bad36b79c79397fa664704dc89741f64f8860f7824e3417e7df5262bf88"
   }
  }
 },
 "nbformat": 4,
 "nbformat_minor": 2
}
